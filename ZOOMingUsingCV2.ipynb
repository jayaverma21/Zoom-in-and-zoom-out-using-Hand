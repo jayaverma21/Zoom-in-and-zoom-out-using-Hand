{
 "cells": [
  {
   "cell_type": "code",
   "execution_count": 1,
   "id": "4594cf9a-8060-44b2-ab53-9af73bf82857",
   "metadata": {},
   "outputs": [
    {
     "name": "stdout",
     "output_type": "stream",
     "text": [
      "Requirement already satisfied: opencv-python in c:\\users\\jaya verma\\anaconda3\\lib\\site-packages (4.9.0.80)\n",
      "Requirement already satisfied: numpy in c:\\users\\jaya verma\\anaconda3\\lib\\site-packages (1.26.4)\n",
      "Requirement already satisfied: cvzone in c:\\users\\jaya verma\\anaconda3\\lib\\site-packages (1.6.1)\n",
      "Note: you may need to restart the kernel to use updated packages.\n"
     ]
    }
   ],
   "source": [
    "pip install opencv-python numpy cvzone"
   ]
  },
  {
   "cell_type": "code",
   "execution_count": null,
   "id": "9a7427a4-8df5-4936-93cf-5007b62ad833",
   "metadata": {},
   "outputs": [
    {
     "name": "stderr",
     "output_type": "stream",
     "text": [
      "C:\\Users\\jaya verma\\anaconda3\\Lib\\site-packages\\google\\protobuf\\symbol_database.py:55: UserWarning: SymbolDatabase.GetPrototype() is deprecated. Please use message_factory.GetMessageClass() instead. SymbolDatabase.GetPrototype() will be removed soon.\n",
      "  warnings.warn('SymbolDatabase.GetPrototype() is deprecated. Please '\n"
     ]
    }
   ],
   "source": [
    "import cv2\n",
    "import numpy as np\n",
    "from cvzone.HandTrackingModule import HandDetector\n",
    "\n",
    "# Initialize HandDetector\n",
    "detector = HandDetector(detectionCon=0.8)\n",
    "\n",
    "# Initialize webcam\n",
    "cap = cv2.VideoCapture(0)\n",
    "\n",
    "# Zoom settings\n",
    "min_zoom = 1.0\n",
    "max_zoom = 3.0\n",
    "zoom_level = 1.0\n",
    "zoom_step = 0.1\n",
    "\n",
    "while True:\n",
    "    success, frame = cap.read()\n",
    "    if not success:\n",
    "        break\n",
    "\n",
    "    # Flip the frame horizontally for natural interaction\n",
    "    frame = cv2.flip(frame, 1)\n",
    "\n",
    "    # Detect hands in the frame\n",
    "    hands, frame = detector.findHands(frame)\n",
    "\n",
    "    if hands:\n",
    "        for hand in hands:\n",
    "            landmarks = hand[\"lmList\"]\n",
    "            bbox = hand[\"bbox\"]\n",
    "\n",
    "            # Get the tips of the thumb and index finger\n",
    "            thumb_tip = landmarks[4]\n",
    "            index_tip = landmarks[8]\n",
    "\n",
    "            # Calculate the distance between the tips of thumb and index finger\n",
    "            thumb_index_distance = np.linalg.norm(np.subtract(thumb_tip, index_tip))\n",
    "\n",
    "            # Map the distance to zoom level\n",
    "            zoom_level = np.interp(thumb_index_distance, [20, 200], [min_zoom, max_zoom])\n",
    "            zoom_level = max(min(zoom_level, max_zoom), min_zoom)\n",
    "\n",
    "            # Display the zoom level on the frame\n",
    "            cv2.putText(frame, f\"Zoom Level: {zoom_level:.2f}\", (bbox[0], bbox[1] - 20),\n",
    "                        cv2.FONT_HERSHEY_PLAIN, 1, (255, 0, 0), 2)\n",
    "\n",
    "    # Apply zoom to the frame\n",
    "    height, width = frame.shape[:2]\n",
    "    new_width = int(width / zoom_level)\n",
    "    new_height = int(height / zoom_level)\n",
    "    start_x = (width - new_width) // 2\n",
    "    start_y = (height - new_height) // 2\n",
    "    zoomed_frame = frame[start_y:start_y+new_height, start_x:start_x+new_width]\n",
    "    zoomed_frame = cv2.resize(zoomed_frame, (width, height))\n",
    "\n",
    "    # Display the resulting frame\n",
    "    cv2.imshow(\"Zoom In/Out with Hand Gesture\", zoomed_frame)\n",
    "\n",
    "    # Break the loop on 'q' key press\n",
    "    if cv2.waitKey(1) & 0xFF == ord('q'):\n",
    "        break\n",
    "\n",
    "# Release the capture and destroy all windows\n",
    "cap.release()\n",
    "cv2.destroyAllWindows()\n"
   ]
  },
  {
   "cell_type": "code",
   "execution_count": null,
   "id": "aa6f6460-0b78-4ee9-8305-938389a9bf7d",
   "metadata": {},
   "outputs": [],
   "source": []
  }
 ],
 "metadata": {
  "kernelspec": {
   "display_name": "Python 3 (ipykernel)",
   "language": "python",
   "name": "python3"
  },
  "language_info": {
   "codemirror_mode": {
    "name": "ipython",
    "version": 3
   },
   "file_extension": ".py",
   "mimetype": "text/x-python",
   "name": "python",
   "nbconvert_exporter": "python",
   "pygments_lexer": "ipython3",
   "version": "3.11.7"
  }
 },
 "nbformat": 4,
 "nbformat_minor": 5
}
